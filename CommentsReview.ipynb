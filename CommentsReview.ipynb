{
  "cells": [
    {
      "attachments": {},
      "cell_type": "markdown",
      "metadata": {
        "id": "8EucDPEfs2nz"
      },
      "source": [
        "Comment Review"
      ]
    },
    {
      "attachments": {},
      "cell_type": "markdown",
      "metadata": {
        "id": "wcn7VDH8_sHu"
      },
      "source": [
        "**Sentiment** enum class for constant values. **Review** class for encapsulation."
      ]
    },
    {
      "cell_type": "code",
      "execution_count": 1,
      "metadata": {
        "id": "kZB9wJsF8iQr"
      },
      "outputs": [],
      "source": [
        "import random\n",
        "class Sentiment:\n",
        "  NEGATIVE = \"NEGATIVE\"\n",
        "  POSITIVE = \"POSITIVE\"\n",
        "  NEUTRAL = \"NEUTRAL\"\n",
        "class Review:\n",
        "  def __init__(self, text, score):\n",
        "    self.text = text\n",
        "    self.score = score\n",
        "    self.sentiment = self.get_sentiment()\n",
        "  def get_sentiment(self):\n",
        "    if self.score <= 2 :\n",
        "      return Sentiment.NEGATIVE\n",
        "    elif self.score == 3 : \n",
        "      return Sentiment.NEUTRAL\n",
        "    else:\n",
        "      return Sentiment.POSITIVE\n",
        "\n",
        "class ReviewContainer:\n",
        "  def __init__(self, reviews):\n",
        "    self.reviews = reviews\n",
        "\n",
        "  def get_text(self):\n",
        "    return [x.text for x in self.reviews]\n",
        "  def get_sentiment(self):\n",
        "    return [x.sentiment for x in self.reviews]\n",
        "  def evenly_distribute(self):\n",
        "    negative = list(filter(lambda x: x.sentiment == Sentiment.NEGATIVE, self.reviews))\n",
        "    positive = list(filter(lambda x: x.sentiment == Sentiment.POSITIVE, self.reviews))\n",
        "    positive_shrunk = positive[:len(negative)]\n",
        "    self.reviews = negative + positive_shrunk\n",
        "    random.shuffle(self.reviews)\n",
        "    print(len(negative))\n",
        "    print(len(positive_shrunk))\n"
      ]
    },
    {
      "attachments": {},
      "cell_type": "markdown",
      "metadata": {
        "id": "wI_FSZ-fJdmf"
      },
      "source": [
        "**Load** the data from file."
      ]
    },
    {
      "cell_type": "code",
      "execution_count": 2,
      "metadata": {
        "id": "D1uz2IzrooIA"
      },
      "outputs": [],
      "source": [
        "import json\n",
        "\n",
        "file_name = './data/Books_small_10000.json'\n",
        "reviews = []\n",
        "with open(file_name) as file:\n",
        "  for line in file:\n",
        "    review = json.loads(line)\n",
        "    reviews.append(Review(review['reviewText'], review['overall']))"
      ]
    },
    {
      "attachments": {},
      "cell_type": "markdown",
      "metadata": {
        "id": "-ADtbcQ4d8J5"
      },
      "source": [
        "**Prep Data**"
      ]
    },
    {
      "cell_type": "code",
      "execution_count": 3,
      "metadata": {
        "colab": {
          "base_uri": "https://localhost:8080/"
        },
        "id": "Qt7CNluEd7w1",
        "outputId": "caec5508-4883-426b-b4b5-0aec64cb3179"
      },
      "outputs": [
        {
          "ename": "ModuleNotFoundError",
          "evalue": "No module named 'sklearn'",
          "output_type": "error",
          "traceback": [
            "\u001b[1;31m---------------------------------------------------------------------------\u001b[0m",
            "\u001b[1;31mModuleNotFoundError\u001b[0m                       Traceback (most recent call last)",
            "Cell \u001b[1;32mIn[3], line 1\u001b[0m\n\u001b[1;32m----> 1\u001b[0m \u001b[39mfrom\u001b[39;00m \u001b[39msklearn\u001b[39;00m\u001b[39m.\u001b[39;00m\u001b[39mmodel_selection\u001b[39;00m \u001b[39mimport\u001b[39;00m train_test_split\n\u001b[0;32m      3\u001b[0m training, test \u001b[39m=\u001b[39m train_test_split(reviews, test_size\u001b[39m=\u001b[39m\u001b[39m0.33\u001b[39m, random_state\u001b[39m=\u001b[39m\u001b[39m42\u001b[39m)\n\u001b[0;32m      5\u001b[0m train_container \u001b[39m=\u001b[39m ReviewContainer(training)\n",
            "\u001b[1;31mModuleNotFoundError\u001b[0m: No module named 'sklearn'"
          ]
        }
      ],
      "source": [
        "from sklearn.model_selection import train_test_split\n",
        "\n",
        "training, test = train_test_split(reviews, test_size=0.33, random_state=42)\n",
        "\n",
        "train_container = ReviewContainer(training)\n",
        "train_container.evenly_distribute()\n",
        "\n",
        "test_container = ReviewContainer(test)\n",
        "test_container.evenly_distribute()"
      ]
    },
    {
      "cell_type": "code",
      "execution_count": null,
      "metadata": {
        "id": "zBEl_SwufNIY"
      },
      "outputs": [],
      "source": [
        "train_x = train_container.get_text()\n",
        "train_y = train_container.get_sentiment()\n",
        "\n",
        "test_x = test_container.get_text() \n",
        "test_y = test_container.get_sentiment()"
      ]
    },
    {
      "attachments": {},
      "cell_type": "markdown",
      "metadata": {
        "id": "W_gzoMgnAtvq"
      },
      "source": [
        "****Bags of Words****"
      ]
    },
    {
      "cell_type": "code",
      "execution_count": null,
      "metadata": {
        "colab": {
          "base_uri": "https://localhost:8080/"
        },
        "id": "CTGrYefyiJp6",
        "outputId": "b896c361-e164-444e-ba37-63e3d67742e7"
      },
      "outputs": [],
      "source": [
        "from sklearn.feature_extraction.text import CountVectorizer, TfidfVectorizer\n",
        "\n",
        "# vectorizer = CountVectorizer()\n",
        "vectorizer = TfidfVectorizer()\n",
        "train_x_vectors = vectorizer.fit_transform(train_x)\n",
        "test_x_vectors = vectorizer.transform(test_x)\n",
        "print(train_x[0])\n",
        "print(train_x_vectors[0].toarray())"
      ]
    },
    {
      "cell_type": "code",
      "execution_count": null,
      "metadata": {
        "colab": {
          "base_uri": "https://localhost:8080/"
        },
        "id": "Dys-n7m-EZ2Z",
        "outputId": "d667e22a-29bc-412d-f015-20035d44eaa6"
      },
      "outputs": [],
      "source": [
        "from sklearn import svm\n",
        "\n",
        "clf_svm = svm.SVC(kernel='linear')\n",
        "clf_svm.fit(train_x_vectors, train_y)\n",
        "\n",
        "test_x[0]\n",
        "clf_svm.predict(test_x_vectors[0])"
      ]
    },
    {
      "attachments": {},
      "cell_type": "markdown",
      "metadata": {
        "id": "UkZrIJeNSZ4-"
      },
      "source": [
        "***Decision Tree***"
      ]
    },
    {
      "cell_type": "code",
      "execution_count": null,
      "metadata": {
        "colab": {
          "base_uri": "https://localhost:8080/"
        },
        "id": "WsJrQzY_Sd2w",
        "outputId": "25ae3423-87fc-4069-c286-314a5c1552e6"
      },
      "outputs": [],
      "source": [
        "from sklearn.tree import DecisionTreeClassifier\n",
        "\n",
        "clf_dec = DecisionTreeClassifier()\n",
        "clf_dec.fit(train_x_vectors, train_y)\n",
        "\n",
        "clf_dec.predict(test_x_vectors[0])"
      ]
    },
    {
      "attachments": {},
      "cell_type": "markdown",
      "metadata": {
        "id": "Nm0TDFQBYd0k"
      },
      "source": [
        "****Naive Bayes****"
      ]
    },
    {
      "cell_type": "code",
      "execution_count": null,
      "metadata": {
        "colab": {
          "base_uri": "https://localhost:8080/"
        },
        "id": "SeJEfePyYjYw",
        "outputId": "4a5d7fb6-1bd7-4187-af04-0d6d018dcd41"
      },
      "outputs": [],
      "source": [
        "from sklearn.naive_bayes import GaussianNB\n",
        "import numpy as np\n",
        "\n",
        "clf_gnb = GaussianNB()\n",
        "clf_gnb.fit((np.asarray(train_x_vectors.todense())), train_y)\n",
        "clf_gnb.predict(np.asarray(test_x_vectors[0].todense()))"
      ]
    },
    {
      "attachments": {},
      "cell_type": "markdown",
      "metadata": {
        "id": "-czi1sOOxGIr"
      },
      "source": [
        "****Logistic Regression****"
      ]
    },
    {
      "cell_type": "code",
      "execution_count": null,
      "metadata": {
        "colab": {
          "base_uri": "https://localhost:8080/"
        },
        "id": "sdO6vGonxjsB",
        "outputId": "081d4e84-5a73-4624-ec92-74b8381ec6e5"
      },
      "outputs": [],
      "source": [
        "from sklearn.linear_model import LogisticRegression\n",
        "\n",
        "clf_lr = LogisticRegression(random_state=0)\n",
        "clf_lr.fit(train_x_vectors, train_y)\n",
        "clf_lr.predict(test_x_vectors[0])"
      ]
    },
    {
      "attachments": {},
      "cell_type": "markdown",
      "metadata": {
        "id": "g_fjajVpy4xp"
      },
      "source": [
        "****Evaluation****"
      ]
    },
    {
      "cell_type": "code",
      "execution_count": null,
      "metadata": {
        "colab": {
          "base_uri": "https://localhost:8080/"
        },
        "id": "A4do8Cn1y97M",
        "outputId": "a057f2f3-f26e-4f41-ebda-fea2dbc404cd"
      },
      "outputs": [],
      "source": [
        "print(\"SVM : \"  + str(clf_svm.score(test_x_vectors, test_y)*100))\n",
        "print(\"DecisionTreeClassifier : \"  + str(clf_dec.score(test_x_vectors, test_y)*100))\n",
        "print(\"Naive Bayes : \"  + str(clf_gnb.score(np.asarray(test_x_vectors.todense()), test_y)*100))\n",
        "print(\"Logistic Regression : \"  + str(clf_lr.score(test_x_vectors, test_y)*100))"
      ]
    },
    {
      "attachments": {},
      "cell_type": "markdown",
      "metadata": {
        "id": "OvDWJitM3U1C"
      },
      "source": [
        "**F1 Scores**"
      ]
    },
    {
      "cell_type": "code",
      "execution_count": null,
      "metadata": {
        "colab": {
          "base_uri": "https://localhost:8080/"
        },
        "id": "1CtiYv5-3Z5J",
        "outputId": "c24a6002-a52f-404d-9363-cb105bc13678"
      },
      "outputs": [],
      "source": [
        "from sklearn.metrics import f1_score\n",
        "\n",
        "print(\"SVM Score : \" + str(f1_score(test_y, clf_svm.predict(test_x_vectors), average=None, labels=[Sentiment.POSITIVE, Sentiment.NEGATIVE])))\n",
        "print(\"DecisionTreeClassifier Score : \" + str(f1_score(test_y, clf_dec.predict(test_x_vectors), average=None, labels=[Sentiment.POSITIVE, Sentiment.NEGATIVE])))\n",
        "print(\"Naive Bayes Score : \" + str(f1_score(test_y, clf_gnb.predict(np.asarray(test_x_vectors.todense())), average=None, labels=[Sentiment.POSITIVE, Sentiment.NEGATIVE])))\n",
        "print(\"Logistic Regression Score : \" + str(f1_score(test_y, clf_lr.predict(test_x_vectors), average=None, labels=[Sentiment.POSITIVE, Sentiment.NEGATIVE])))"
      ]
    },
    {
      "attachments": {},
      "cell_type": "markdown",
      "metadata": {
        "id": "MNML_-K3EFe1"
      },
      "source": [
        "**Test for cusom values**"
      ]
    },
    {
      "cell_type": "code",
      "execution_count": null,
      "metadata": {
        "colab": {
          "base_uri": "https://localhost:8080/"
        },
        "id": "bPhjwkn4EJX_",
        "outputId": "e69586f4-7b13-4e75-e9a6-8e22fe3e1281"
      },
      "outputs": [],
      "source": [
        "custom_test_set = [\"who is still able to relate in 2023\", \"waste of time\", \"fucking awesome\", \"use me as a dislike button\"]\n",
        "custom_test = vectorizer.transform(custom_test_set)\n",
        "\n",
        "\n",
        "clf_svm.predict(custom_test)"
      ]
    },
    {
      "attachments": {},
      "cell_type": "markdown",
      "metadata": {
        "id": "I-hVm5QtD9kB"
      },
      "source": [
        "**Tuning Model**"
      ]
    },
    {
      "cell_type": "code",
      "execution_count": null,
      "metadata": {
        "colab": {
          "base_uri": "https://localhost:8080/",
          "height": 118
        },
        "id": "-IkXdCoWECqZ",
        "outputId": "f1a72265-7144-40b8-fbaf-98cbd2e90a2a"
      },
      "outputs": [],
      "source": [
        "from sklearn.model_selection import GridSearchCV\n",
        "\n",
        "parameters = {'kernel': ('linear', 'rbf'), 'C': (1,4,8,16,32)}\n",
        "\n",
        "svc = svm.SVC()\n",
        "clf = GridSearchCV(svc, parameters, cv=5)\n",
        "clf.fit(train_x_vectors, train_y)"
      ]
    },
    {
      "cell_type": "code",
      "execution_count": null,
      "metadata": {
        "colab": {
          "base_uri": "https://localhost:8080/"
        },
        "id": "rl6OSI_Fsbs1",
        "outputId": "4f95c7cb-5ba8-4533-cf68-d2b2c78471aa"
      },
      "outputs": [],
      "source": [
        "print(clf.score(test_x_vectors, test_y))"
      ]
    },
    {
      "attachments": {},
      "cell_type": "markdown",
      "metadata": {
        "id": "Wamrgl7PUEr2"
      },
      "source": [
        "**Saving Model**"
      ]
    },
    {
      "cell_type": "code",
      "execution_count": null,
      "metadata": {
        "id": "U1SflXRbUHlt"
      },
      "outputs": [],
      "source": [
        "import pickle \n",
        "\n",
        "with open('./models/sentiment_classifier.pkl', 'wb') as f:\n",
        "  pickle.dump(clf, f)\n",
        "\n",
        "with open('./models/category_vectorizer.pkl', 'wb') as f:\n",
        "  pickle.dump(vectorizer, f)"
      ]
    },
    {
      "attachments": {},
      "cell_type": "markdown",
      "metadata": {
        "id": "_BesV54UU_R9"
      },
      "source": [
        "**Load Model**"
      ]
    },
    {
      "cell_type": "code",
      "execution_count": null,
      "metadata": {
        "id": "KYQKBz6WVD2w"
      },
      "outputs": [],
      "source": [
        "with open('./models/sentiment_classifier.pkl', 'rb') as f:\n",
        "  loaded_clf = pickle.load(f)\n",
        "\n",
        "with open('./models/category_vectorizer.pkl', 'rb') as f:\n",
        "  vectorizer = pickle.load(f)"
      ]
    },
    {
      "cell_type": "code",
      "execution_count": null,
      "metadata": {
        "colab": {
          "base_uri": "https://localhost:8080/"
        },
        "id": "i9bAHCfCWnqk",
        "outputId": "30b36c7c-0cd4-4d06-d7df-b0992f5a27af"
      },
      "outputs": [],
      "source": [
        "test_set = [\"its okay\", \"a good read\", \"bad\"]\n",
        "new_test = vectorizer.transform(test_set)\n",
        "\n",
        "loaded_clf.predict(new_test)"
      ]
    },
    {
      "cell_type": "code",
      "execution_count": null,
      "metadata": {
        "colab": {
          "base_uri": "https://localhost:8080/"
        },
        "id": "Dn77BiFuVUii",
        "outputId": "e97c919e-55a2-4818-d63f-c7dfc0e1b21e"
      },
      "outputs": [],
      "source": [
        "print(test_x[0])\n",
        "loaded_clf.predict(test_x_vectors[0])"
      ]
    }
  ],
  "metadata": {
    "colab": {
      "provenance": [],
      "toc_visible": true
    },
    "kernelspec": {
      "display_name": "Python 3",
      "name": "python3"
    },
    "language_info": {
      "codemirror_mode": {
        "name": "ipython",
        "version": 3
      },
      "file_extension": ".py",
      "mimetype": "text/x-python",
      "name": "python",
      "nbconvert_exporter": "python",
      "pygments_lexer": "ipython3",
      "version": "3.10.1"
    }
  },
  "nbformat": 4,
  "nbformat_minor": 0
}
